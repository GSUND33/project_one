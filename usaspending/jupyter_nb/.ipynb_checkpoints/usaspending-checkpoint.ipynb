{
 "cells": [
  {
   "cell_type": "code",
   "execution_count": 1,
   "metadata": {
    "scrolled": true
   },
   "outputs": [],
   "source": [
    "# Dependencies and Setup\n",
    "import matplotlib.pyplot as plt\n",
    "import pandas as pd\n",
    "import numpy as np\n",
    "import requests\n",
    "import time\n",
    "import json"
   ]
  },
  {
   "cell_type": "markdown",
   "metadata": {},
   "source": [
    "# CHECK FOR CALL LIMIT"
   ]
  },
  {
   "cell_type": "code",
   "execution_count": null,
   "metadata": {},
   "outputs": [],
   "source": [
    "base_url = 'https://api.usaspending.gov/'\n",
    "endpoint = 'api/v2/awards/?awarding_agency__toptier_agency__cgac_code=097'\n",
    "method = 'POST'\n",
    "query_url = f'{base_url}{endpoint}'\n",
    "response_json = requests.get(query_url).json()\n"
   ]
  },
  {
   "cell_type": "code",
   "execution_count": null,
   "metadata": {},
   "outputs": [],
   "source": [
    "response_json"
   ]
  },
  {
   "cell_type": "markdown",
   "metadata": {},
   "source": [
    "### Convert Raw Data to DataFrame\n",
    "* Export the city data into a .csv.\n",
    "* Display the DataFrame"
   ]
  },
  {
   "cell_type": "code",
   "execution_count": null,
   "metadata": {},
   "outputs": [],
   "source": [
    "# financial_spending/object_class/?fiscal_year=2017&funding_agency_id=4324&major_object_class_code=20\n",
    "\n",
    "# for thing in rand_cities:\n",
    "#     next_city = thing\n",
    "#     try:\n",
    "#         query_url = f'{base_url}q={next_city}&units={unit_type}&appid={thinger}'\n",
    "#         weather_json = requests.get(query_url).json()\n",
    "        \n",
    "\n",
    "# except keyerror:\n",
    "#     f'weather paramter not currently observed for {city} at time of request'\n",
    "\n",
    "# Get the temperature from the response\n",
    "# print(f\"The weather API responded with: {weather_json}.\")\n",
    "\n",
    "# pprint = print(json.dumps(response_json, indent=4, sort_keys=True))\n",
    "# Temperature (F) vs. Latitude\n",
    "# Humidity (%) vs. Latitude\n",
    "# Cloudiness (%) vs. Latitude\n",
    "# Wind Speed (mph) vs. Latitude\n",
    "# Date of request\n",
    "\n",
    "# store in list/dicitonary: \n",
    "# city_name = weather_json()\n",
    "# temp\n",
    "# cloud\n",
    "# wind\n",
    "# lat_label\n",
    "# long_label\n",
    "\n",
    "# weather_json: dict\n",
    "# Akeys: ['coord', 'weather', 'base', 'main', 'visibility', 'wind', 'clouds', 'dt', 'sys', 'timezone', 'id', 'name', 'cod']\n",
    "# Avalues: [\n",
    "# {'lon': -123.14, \n",
    "#  'lat': 49.16},\n",
    "# [\n",
    "# {'id': 804, \n",
    "#  'main': 'Clouds', \n",
    "#  'description': 'overcast clouds', \n",
    "#  'icon': '04d'}\n",
    "# ],\n",
    "#  'stations', \n",
    "# {'temp': 48.56, \n",
    "#  'pressure': 1030, \n",
    "#  'humidity': 93, \n",
    "#  'temp_min': 46, \n",
    "#  'temp_max': 51.01}, \n",
    "#   16093, \n",
    "# {'speed': 2.8, \n",
    "#  'deg': 107}, \n",
    "# {'all': 90}, \n",
    "#  1571935506, \n",
    "# {'type': 1, \n",
    "#  'id': 5232, 'country': 'CA', 'sunrise': 1571928425, 'sunset': 1571965569}, -25200, 6122085, 'Richmond', 200])"
   ]
  },
  {
   "cell_type": "code",
   "execution_count": null,
   "metadata": {},
   "outputs": [],
   "source": [
    "# Write object to a comma-separated values (csv) file.\n",
    "# DataFrame.to_csv(self, path_or_buf=None, sep=', ', na_rep='', float_format=None, columns=None, header=True, index=True, index_label=None, mode='w', encoding=None, compression='infer', quoting=None, quotechar='\"', line_terminator=None, chunksize=None, date_format=None, doublequote=True, escapechar=None, decimal='.')[source]\n",
    "# https://pandas.pydata.org/pandas-docs/stable/reference/api/pandas.DataFrame.to_csv.html"
   ]
  }
 ],
 "metadata": {
  "anaconda-cloud": {},
  "kernel_info": {
   "name": "python3"
  },
  "kernelspec": {
   "display_name": "Python 3",
   "language": "python",
   "name": "python3"
  },
  "language_info": {
   "codemirror_mode": {
    "name": "ipython",
    "version": 3
   },
   "file_extension": ".py",
   "mimetype": "text/x-python",
   "name": "python",
   "nbconvert_exporter": "python",
   "pygments_lexer": "ipython3",
   "version": "3.7.3"
  },
  "nteract": {
   "version": "0.12.3"
  }
 },
 "nbformat": 4,
 "nbformat_minor": 2
}
