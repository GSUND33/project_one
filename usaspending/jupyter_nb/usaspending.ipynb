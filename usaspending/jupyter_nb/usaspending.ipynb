{
 "cells": [
  {
   "cell_type": "markdown",
   "metadata": {},
   "source": [
    "# WeatherPy_ZM (Local)\n",
    "----\n",
    "\n",
    "#### Note\n",
    "* Instructions have been included for each segment. You do not have to follow them exactly, but they are included to help you think through the steps."
   ]
  },
  {
   "cell_type": "markdown",
   "metadata": {},
   "source": [
    "#### Instructions\n",
    "\n",
    "Your objective is to build a series of scatter plots to showcase the following relationships:\n",
    "\n",
    "    Temperature (F) vs. Latitude\n",
    "    Humidity (%) vs. Latitude\n",
    "    Cloudiness (%) vs. Latitude\n",
    "    Wind Speed (mph) vs. Latitude\n",
    "    \n",
    "    Date of request\n",
    "\n",
    "Your final notebook must:\n",
    "\n",
    "    Randomly select at least 500 unique (non-repeat) cities based on latitude and longitude.\n",
    "    Perform a weather check on each of the cities using a series of successive API calls.\n",
    "    Include a print log of each city as it's being processed with the city number and city name.\n",
    "    Save both a CSV of all data retrieved and png images for each scatter plot.\n",
    "\n",
    "As final considerations:\n",
    "\n",
    "    Create a new GitHub repository for this project called API-Challenge (note the kebab-case).\n",
    "        Do not add to an existing repo\n",
    "    You must complete your analysis using a Jupyter notebook.\n",
    "    You must use the Matplotlib or Pandas plotting libraries.\n",
    "    You must include a written description of three observable trends based on the data.\n",
    "    You must use proper labeling of your plots, including aspects like: \n",
    "        Plot Titles (with date of analysis) and Axes Labels.\n",
    "    See Example Solution for a reference on expected format.\n",
    "    "
   ]
  },
  {
   "cell_type": "markdown",
   "metadata": {},
   "source": [
    "#### Additional Resources\n",
    "\n",
    "list of all parameters with units http://openweathermap.org/weather-data\n",
    "\n",
    "standard (Kelvin for temp) api.openweathermap.org/data/2.5/find?q=London\n",
    "\n",
    "metric api.openweathermap.org/data/2.5/find?q=London&units=metric\n",
    "\n",
    "imperial api.openweathermap.org/data/2.5/find?q=London&units=imperial\n"
   ]
  },
  {
   "cell_type": "code",
   "execution_count": 29,
   "metadata": {
    "scrolled": true
   },
   "outputs": [],
   "source": [
    "# Dependencies and Setup\n",
    "import matplotlib.pyplot as plt\n",
    "import pandas as pd\n",
    "import numpy as np\n",
    "import requests\n",
    "import time\n",
    "import json\n",
    "\n",
    "# Import API key\n",
    "from openweather import thinger\n",
    "\n",
    "# Incorporated citipy to determine city based on latitude and longitude\n",
    "from citipy import citipy\n",
    "\n",
    "# Output File (CSV)\n",
    "output_data_file = \"output_files/cities.csv\"\n",
    "\n",
    "# Range of latitudes and longitudes\n",
    "lat_range = (-90, 90)\n",
    "lng_range = (-180, 180)"
   ]
  },
  {
   "cell_type": "markdown",
   "metadata": {},
   "source": [
    "## Generate Cities List"
   ]
  },
  {
   "cell_type": "code",
   "execution_count": 3,
   "metadata": {},
   "outputs": [
    {
     "name": "stdout",
     "output_type": "stream",
     "text": [
      "done generating list: rand_cities\n"
     ]
    }
   ],
   "source": [
    "lat_lngs = []\n",
    "rand_cities = []\n",
    "lats = np.random.uniform(low=-90.000, high=90.000, size=1500)\n",
    "lngs = np.random.uniform(low=-180.000, high=180.000, size=1500)\n",
    "lat_lngs = zip(lats, lngs)\n",
    "\n",
    "for point in lat_lngs:\n",
    "    city = citipy.nearest_city(point[0], point[1]).city_name\n",
    "\n",
    "    if city not in rand_cities:\n",
    "        rand_cities.append(city)\n",
    "print('done generating list: rand_cities')"
   ]
  },
  {
   "cell_type": "code",
   "execution_count": 4,
   "metadata": {},
   "outputs": [
    {
     "data": {
      "text/plain": [
       "598"
      ]
     },
     "execution_count": 4,
     "metadata": {},
     "output_type": "execute_result"
    }
   ],
   "source": [
    "len(rand_cities)"
   ]
  },
  {
   "cell_type": "code",
   "execution_count": 14,
   "metadata": {},
   "outputs": [
    {
     "data": {
      "text/plain": [
       "'san quintin'"
      ]
     },
     "execution_count": 14,
     "metadata": {},
     "output_type": "execute_result"
    }
   ],
   "source": [
    "rand_cities[69]"
   ]
  },
  {
   "cell_type": "markdown",
   "metadata": {},
   "source": [
    "### Perform API Calls\n",
    "* Perform a weather check on each city using a series of successive API calls.\n",
    "* Include a print log of each city as it'sbeing processed (with the city number and city name)."
   ]
  },
  {
   "cell_type": "markdown",
   "metadata": {},
   "source": [
    "# NO MORE THAN 60 CALLS PER MINUTE"
   ]
  },
  {
   "cell_type": "code",
   "execution_count": 15,
   "metadata": {},
   "outputs": [],
   "source": [
    "base_url = 'http://api.openweathermap.org/data/2.5/weather?'\n",
    "unit_type = 'imperial'\n",
    "next_city = 'Richmond'\n",
    "query_url = f'{base_url}q={next_city}&units={unit_type}&appid={thinger}'\n",
    "weather_json = requests.get(query_url).json()\n",
    "\n",
    "\n",
    "\n",
    "# for thing in rand_cities:\n",
    "#     next_city = thing\n",
    "#     try:\n",
    "#         query_url = f'{base_url}q={next_city}&units={unit_type}&appid={thinger}'\n",
    "#         weather_json = requests.get(query_url).json()\n",
    "        \n",
    "\n",
    "# except keyerror:\n",
    "#     f'weather paramter not currently observed for {city} at time of request'\n",
    "\n",
    "# Get the temperature from the response\n",
    "# print(f\"The weather API responded with: {weather_json}.\")\n",
    "\n",
    "# pprint = print(json.dumps(response_json, indent=4, sort_keys=True))\n",
    "# Temperature (F) vs. Latitude\n",
    "# Humidity (%) vs. Latitude\n",
    "# Cloudiness (%) vs. Latitude\n",
    "# Wind Speed (mph) vs. Latitude\n",
    "# Date of request\n",
    "\n",
    "# store in list/dicitonary: \n",
    "# city_name = weather_json()\n",
    "# temp\n",
    "# cloud\n",
    "# wind\n",
    "# lat_label\n",
    "# long_label\n",
    "\n",
    "# weather_json: dict\n",
    "# Akeys: ['coord', 'weather', 'base', 'main', 'visibility', 'wind', 'clouds', 'dt', 'sys', 'timezone', 'id', 'name', 'cod']\n",
    "# Avalues: [\n",
    "# {'lon': -123.14, \n",
    "#  'lat': 49.16},\n",
    "# [\n",
    "# {'id': 804, \n",
    "#  'main': 'Clouds', \n",
    "#  'description': 'overcast clouds', \n",
    "#  'icon': '04d'}\n",
    "# ],\n",
    "#  'stations', \n",
    "# {'temp': 48.56, \n",
    "#  'pressure': 1030, \n",
    "#  'humidity': 93, \n",
    "#  'temp_min': 46, \n",
    "#  'temp_max': 51.01}, \n",
    "#   16093, \n",
    "# {'speed': 2.8, \n",
    "#  'deg': 107}, \n",
    "# {'all': 90}, \n",
    "#  1571935506, \n",
    "# {'type': 1, \n",
    "#  'id': 5232, 'country': 'CA', 'sunrise': 1571928425, 'sunset': 1571965569}, -25200, 6122085, 'Richmond', 200])"
   ]
  },
  {
   "cell_type": "code",
   "execution_count": 35,
   "metadata": {},
   "outputs": [
    {
     "data": {
      "text/plain": [
       "'Richmond'"
      ]
     },
     "execution_count": 35,
     "metadata": {},
     "output_type": "execute_result"
    }
   ],
   "source": [
    "weather_json['name']"
   ]
  },
  {
   "cell_type": "code",
   "execution_count": 28,
   "metadata": {},
   "outputs": [
    {
     "data": {
      "text/plain": [
       "13"
      ]
     },
     "execution_count": 28,
     "metadata": {},
     "output_type": "execute_result"
    }
   ],
   "source": []
  },
  {
   "cell_type": "markdown",
   "metadata": {},
   "source": [
    "### Convert Raw Data to DataFrame\n",
    "* Export the city data into a .csv.\n",
    "* Display the DataFrame"
   ]
  },
  {
   "cell_type": "code",
   "execution_count": null,
   "metadata": {},
   "outputs": [],
   "source": [
    "# Write object to a comma-separated values (csv) file.\n",
    "# DataFrame.to_csv(self, path_or_buf=None, sep=', ', na_rep='', float_format=None, columns=None, header=True, index=True, index_label=None, mode='w', encoding=None, compression='infer', quoting=None, quotechar='\"', line_terminator=None, chunksize=None, date_format=None, doublequote=True, escapechar=None, decimal='.')[source]\n",
    "# https://pandas.pydata.org/pandas-docs/stable/reference/api/pandas.DataFrame.to_csv.html"
   ]
  },
  {
   "cell_type": "code",
   "execution_count": null,
   "metadata": {},
   "outputs": [],
   "source": []
  },
  {
   "cell_type": "markdown",
   "metadata": {},
   "source": [
    "### Plotting the Data\n",
    "* Use proper labeling of the plots using plot titles (including date of analysis) and axes labels.\n",
    "* Save the plotted figures as .pngs."
   ]
  },
  {
   "cell_type": "markdown",
   "metadata": {},
   "source": [
    "#### Latitude vs. Temperature Plot"
   ]
  },
  {
   "cell_type": "code",
   "execution_count": null,
   "metadata": {},
   "outputs": [],
   "source": []
  },
  {
   "cell_type": "markdown",
   "metadata": {},
   "source": [
    "#### Latitude vs. Humidity Plot"
   ]
  },
  {
   "cell_type": "code",
   "execution_count": null,
   "metadata": {},
   "outputs": [],
   "source": []
  },
  {
   "cell_type": "markdown",
   "metadata": {},
   "source": [
    "#### Latitude vs. Cloudiness Plot"
   ]
  },
  {
   "cell_type": "code",
   "execution_count": null,
   "metadata": {},
   "outputs": [],
   "source": []
  },
  {
   "cell_type": "markdown",
   "metadata": {},
   "source": [
    "#### Latitude vs. Wind Speed Plot"
   ]
  },
  {
   "cell_type": "code",
   "execution_count": null,
   "metadata": {},
   "outputs": [],
   "source": []
  },
  {
   "cell_type": "code",
   "execution_count": null,
   "metadata": {},
   "outputs": [],
   "source": []
  }
 ],
 "metadata": {
  "anaconda-cloud": {},
  "kernel_info": {
   "name": "python3"
  },
  "kernelspec": {
   "display_name": "Python 3",
   "language": "python",
   "name": "python3"
  },
  "language_info": {
   "codemirror_mode": {
    "name": "ipython",
    "version": 3
   },
   "file_extension": ".py",
   "mimetype": "text/x-python",
   "name": "python",
   "nbconvert_exporter": "python",
   "pygments_lexer": "ipython3",
   "version": "3.7.3"
  },
  "nteract": {
   "version": "0.12.3"
  }
 },
 "nbformat": 4,
 "nbformat_minor": 2
}
